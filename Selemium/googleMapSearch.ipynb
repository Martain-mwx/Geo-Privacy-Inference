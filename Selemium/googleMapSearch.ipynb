{
 "cells": [
  {
   "cell_type": "markdown",
   "id": "8077a33a",
   "metadata": {},
   "source": [
    "# 打开页面"
   ]
  },
  {
   "cell_type": "markdown",
   "id": "4ef4f551",
   "metadata": {},
   "source": [
    "selenium实现google地图的自动搜索某地点"
   ]
  },
  {
   "cell_type": "code",
   "execution_count": 4,
   "id": "ca3a1746",
   "metadata": {},
   "outputs": [
    {
     "name": "stderr",
     "output_type": "stream",
     "text": [
      "C:\\Users\\mwx\\AppData\\Local\\Temp\\ipykernel_23100\\98740305.py:22: DeprecationWarning: Selenium Tools for Microsoft Edge is deprecated. Please upgrade to Selenium 4 which has built-in support for Microsoft Edge (Chromium): https://docs.microsoft.com/en-us/microsoft-edge/webdriver-chromium/#upgrading-from-selenium-3\n",
      "  driver = Edge(options=options, executable_path=r\"D:\\tool\\edgedriver_win64\\msedgedriver.exe\") # 相应的浏览器的驱动位置\n"
     ]
    }
   ],
   "source": [
    "from seleniumwire import webdriver\n",
    "from msedge.selenium_tools import Edge, EdgeOptions\n",
    "from selenium.webdriver.common.keys import Keys\n",
    "import requests\n",
    "import time\n",
    "\n",
    "options = EdgeOptions()\n",
    "options.use_chromium = True\n",
    "# 无头模式\n",
    "#options.add_argument('--headless')\n",
    "options.add_experimental_option('useAutomationExtension',False)\n",
    "options.add_experimental_option('excludeSwitches', ['enable-automation', 'enable-logging'])\n",
    "options.add_argument(\"--auto-open-devtools-for-tabs\");\n",
    "options.add_argument(\"--disable-blink-features=AutomationControlled\");\n",
    "options.add_argument(\"--start-maximized\");\n",
    "\n",
    "# 设置好应用扩展 \n",
    "extension_path = r\"D:\\文档资料\\vscodeWork\\googleMapHook\\googleMapHook_v2.crx\"\n",
    "options.add_extension(extension_path)\n",
    "\n",
    "options.binary_location = r\"C:\\Program Files (x86)\\Microsoft\\Edge\\Application\\msedge.exe\" # 浏览器的位置\n",
    "driver = Edge(options=options, executable_path=r\"D:\\tool\\edgedriver_win64\\msedgedriver.exe\") # 相应的浏览器的驱动位置\n",
    "url = \"https://www.google.com/maps\"\n",
    "driver.get(url)"
   ]
  },
  {
   "cell_type": "markdown",
   "id": "45c73705",
   "metadata": {},
   "source": [
    "# 方法导入"
   ]
  },
  {
   "cell_type": "code",
   "execution_count": 5,
   "id": "ce6bc371",
   "metadata": {},
   "outputs": [],
   "source": [
    "#以form表单形式向后台发送数据 application/x-www-form-urlencoded\n",
    "def send_data(url,data):\n",
    "    data = {'data':data}\n",
    "    s = requests.session()\n",
    "    s.keep_alive = False # 关闭多余连接\n",
    "    s.post(url,data,timeout=300)\n",
    "    \n",
    "#延时刷新浏览器,并通知后台\n",
    "def refresh(delay,url,localhost):\n",
    "    time.sleep(delay)\n",
    "    send_data(localhost,'refresh')\n",
    "    driver.execute_script(\"window.location.href = \" + '\"'+ url +'\"')\n",
    "#     time.sleep(1)\n",
    "#     driver.refresh() # 刷新方法 refresh\n",
    "\n",
    "#延时delay秒，然后对目标地点进行搜索\n",
    "def search(delay,location):   \n",
    "    time.sleep(delay)\n",
    "    #搜索框输入\n",
    "    driver.find_element_by_id(\"searchboxinput\").send_keys(location)\n",
    "    u =  \"console.log(\"+\"'\"+location+\"'\"+\")\"\n",
    "    driver.execute_script(u)\n",
    "    time.sleep(1.5)\n",
    "    driver.find_element_by_id(\"searchbox-searchbutton\").click()\n",
    "\n",
    "def s(targetLocation,refreshUrl,localhost):\n",
    "    send_data(localhost,targetLocation)\n",
    "    #延时2s搜索\n",
    "    search(2,targetLocation)\n",
    "    refresh(6.5,refreshUrl,localhost)"
   ]
  },
  {
   "cell_type": "markdown",
   "id": "912c6f89",
   "metadata": {},
   "source": [
    "# 正式开始"
   ]
  },
  {
   "cell_type": "code",
   "execution_count": 39,
   "id": "a3283b0d",
   "metadata": {
    "scrolled": true
   },
   "outputs": [
    {
     "name": "stdout",
     "output_type": "stream",
     "text": [
      "1\n",
      "2\n",
      "3\n",
      "4\n",
      "5\n",
      "6\n",
      "7\n",
      "8\n",
      "9\n",
      "10\n",
      "11\n",
      "12\n"
     ]
    }
   ],
   "source": [
    "#初始位置  相关\n",
    "\n",
    "#refreshUrl = \"https://www.google.com/maps/@23.1259819,112.9476577,10z\"  #广州\n",
    "#targetLocation = \"海珠区\"\n",
    "#targetLocation = \"天河区\"\n",
    "\n",
    "\n",
    "#refreshUrl = \"https://www.google.com/maps/@31.2246325,121.1965686,10z\" # 上海\n",
    "#targetLocation = \"黄浦区\"\n",
    "#targetLocation = \"静安区\"\n",
    "\n",
    "\n",
    "#refreshUrl = \"https://www.google.com/maps/@39.9390731,116.117278,10z\" # 北京\n",
    "#targetLocation = \"顺义区\"\n",
    "#targetLocation = \"西城区\"\n",
    "\n",
    "\n",
    "#refreshUrl = \"https://www.google.com/maps/@36.1362663,120.2247542,11z\"  # 青岛\n",
    "#targetLocation = \"市南区\"\n",
    "#targetLocation = \"即墨区\"\n",
    "\n",
    "\n",
    "#refreshUrl = \"https://www.google.com/maps/@36.0785707,103.6209791,11z\"  # 兰州\n",
    "#targetLocation = \"七里河区\"\n",
    "#targetLocation = \"兰州新区\"\n",
    "\n",
    "\n",
    "#refreshUrl = \"https://www.google.com/maps/@40.817179,111.5077899,11z\"  # 呼和浩特\n",
    "#targetLocation = \"回民区\"\n",
    "#targetLocation = \"土默特左旗\"\n",
    "\n",
    "\n",
    "#refreshUrl = \"https://www.google.com/maps/@30.5683366,114.1603006,11z\"  \n",
    "#targetLocation = \"武昌区\"\n",
    "#targetLocation = \"江汉区\"\n",
    "\n",
    "\n",
    "\n",
    "\n",
    "#refreshUrl = \"https://www.google.com/maps/@37.2756354,-104.6563627,5z\"\n",
    "#targetLocation = \"波士顿\"\n",
    "#targetLocation = \"New York\"\n",
    "#targetLocation = \"迈阿密\" \n",
    "\n",
    "# 阿肯色州\n",
    "#refreshUrl = \"https://www.google.com/maps/@34.7490482,-93.2524748,8z\"\n",
    "#targetLocation = \"小石城\"\n",
    "\n",
    "\n",
    "# 密歇根州\n",
    "#refreshUrl = \"https://www.google.com/maps/@44.9827987,-88.5132121,7z\"\n",
    "#targetLocation = \"大急流城\"\n",
    "\n",
    "# 科罗拉多州\n",
    "refreshUrl = \"https://www.google.com/maps/@38.9806268,-107.7990472,7z\"\n",
    "targetLocation = \"丹佛\"\n",
    "\n",
    "# 犹他州\n",
    "#refreshUrl = \"https://www.google.com/maps/@39.4823462,-113.7954823,7z\"\n",
    "#targetLocation = \"盐湖城\"\n",
    "\n",
    "# 加利福尼亚州\n",
    "#refreshUrl = \"https://www.google.com/maps/@37.1931221,-123.7962226,6z\"\n",
    "#targetLocation =\"旧金山\"\n",
    "\n",
    "localhost = \"http://localhost:8080/cannot1\"\n",
    "\n",
    "count = 12\n",
    "i = 0\n",
    "while i  < count:\n",
    "    s(targetLocation,refreshUrl,localhost)\n",
    "    time.sleep(5)\n",
    "    i = i + 1\n",
    "    print(i)"
   ]
  },
  {
   "cell_type": "code",
   "execution_count": null,
   "id": "e500c6b4",
   "metadata": {},
   "outputs": [],
   "source": []
  },
  {
   "cell_type": "code",
   "execution_count": null,
   "id": "44c6ab0c",
   "metadata": {},
   "outputs": [],
   "source": [
    "driver.get(\"edge://settings/clearBrowserData\");\n",
    "driver.find_element_by_id(\"clear-now\").click()"
   ]
  },
  {
   "cell_type": "code",
   "execution_count": null,
   "id": "ef9ea6bd",
   "metadata": {},
   "outputs": [],
   "source": []
  }
 ],
 "metadata": {
  "kernelspec": {
   "display_name": "Python 3 (ipykernel)",
   "language": "python",
   "name": "python3"
  },
  "language_info": {
   "codemirror_mode": {
    "name": "ipython",
    "version": 3
   },
   "file_extension": ".py",
   "mimetype": "text/x-python",
   "name": "python",
   "nbconvert_exporter": "python",
   "pygments_lexer": "ipython3",
   "version": "3.9.12"
  },
  "toc": {
   "base_numbering": 1,
   "nav_menu": {},
   "number_sections": true,
   "sideBar": true,
   "skip_h1_title": false,
   "title_cell": "Table of Contents",
   "title_sidebar": "Contents",
   "toc_cell": false,
   "toc_position": {},
   "toc_section_display": true,
   "toc_window_display": false
  }
 },
 "nbformat": 4,
 "nbformat_minor": 5
}
